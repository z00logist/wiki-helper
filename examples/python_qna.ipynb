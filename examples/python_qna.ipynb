{
 "cells": [
  {
   "cell_type": "markdown",
   "metadata": {},
   "source": [
    "# Python Question Answering Bot"
   ]
  },
  {
   "cell_type": "markdown",
   "metadata": {},
   "source": [
    "## Initialization"
   ]
  },
  {
   "cell_type": "code",
   "execution_count": 1,
   "metadata": {},
   "outputs": [],
   "source": [
    "import pathlib as pth\n",
    "import sys\n",
    "\n",
    "base_location = pth.Path.cwd().parent\n",
    "\n",
    "sys.path.append((base_location / \"src\").as_posix())"
   ]
  },
  {
   "cell_type": "code",
   "execution_count": 2,
   "metadata": {},
   "outputs": [],
   "source": [
    "from llama_index.embeddings.huggingface import HuggingFaceEmbedding\n",
    "from yarl import URL\n",
    "\n",
    "from wiki_helper.qna.impl.generative_model import LargeLanguageModel\n",
    "from wiki_helper.qna.impl.knowledge_base import ExternalKnowledgeBase\n",
    "from wiki_helper.qna.impl.system import RagSystemImpl\n",
    "from wiki_helper.storing.impl.storage import VectorStorage, VectorStorageConnection"
   ]
  },
  {
   "cell_type": "markdown",
   "metadata": {},
   "source": [
    "#### Model Locations"
   ]
  },
  {
   "cell_type": "code",
   "execution_count": 3,
   "metadata": {},
   "outputs": [],
   "source": [
    "generative_model_location = (\n",
    "    base_location / \"models\" / \"generative_model\" / \"Llama-3.2-3B-Instruct-Q6_K.gguf\"\n",
    ")\n",
    "embedding_model_location = base_location / \"models\" / \"embedder\""
   ]
  },
  {
   "cell_type": "markdown",
   "metadata": {},
   "source": [
    "#### Initialize Embedding Function"
   ]
  },
  {
   "cell_type": "code",
   "execution_count": 4,
   "metadata": {},
   "outputs": [],
   "source": [
    "prompt_for_retrieval = \"Represent this sentence for searching relevant passages:\"\n",
    "\n",
    "contextual_oven = HuggingFaceEmbedding(\n",
    "    model_name=embedding_model_location.as_posix(),\n",
    "    query_instruction=prompt_for_retrieval,\n",
    ")"
   ]
  },
  {
   "cell_type": "markdown",
   "metadata": {},
   "source": [
    "**NOTE**: you need to up chroma-db before"
   ]
  },
  {
   "cell_type": "code",
   "execution_count": 5,
   "metadata": {},
   "outputs": [],
   "source": [
    "settings = VectorStorageConnection(host=\"localhost\", port=8000)"
   ]
  },
  {
   "cell_type": "markdown",
   "metadata": {},
   "source": [
    "#### Build RAG System"
   ]
  },
  {
   "cell_type": "code",
   "execution_count": 6,
   "metadata": {},
   "outputs": [],
   "source": [
    "system = RagSystemImpl(\n",
    "    LargeLanguageModel(model_location=generative_model_location),\n",
    "    ExternalKnowledgeBase(\"en\"),\n",
    "    VectorStorage(embedding_builder=contextual_oven, connection_settings=settings),\n",
    ")"
   ]
  },
  {
   "cell_type": "markdown",
   "metadata": {},
   "source": [
    "#### Now We can Train the Model"
   ]
  },
  {
   "cell_type": "markdown",
   "metadata": {},
   "source": [
    "Let's say we want our system to be able to answer questions about Python"
   ]
  },
  {
   "cell_type": "code",
   "execution_count": 7,
   "metadata": {},
   "outputs": [],
   "source": [
    "system.train(\n",
    "    location=URL(\"https://en.wikipedia.org/wiki/Python_(programming_language)\")\n",
    ")"
   ]
  },
  {
   "cell_type": "markdown",
   "metadata": {},
   "source": [
    "Okay, we got the system. We can ask it questions!"
   ]
  },
  {
   "cell_type": "code",
   "execution_count": 8,
   "metadata": {},
   "outputs": [
    {
     "data": {
      "text/plain": [
       "'Python is a high-level, general-purpose programming language.'"
      ]
     },
     "execution_count": 8,
     "metadata": {},
     "output_type": "execute_result"
    }
   ],
   "source": [
    "system.answer(\"What is Python?\")"
   ]
  },
  {
   "cell_type": "markdown",
   "metadata": {},
   "source": [
    "But I want to ask it more abstract questions about programming. Let's widen the knowledge base"
   ]
  },
  {
   "cell_type": "code",
   "execution_count": 9,
   "metadata": {},
   "outputs": [],
   "source": [
    "system.train(\n",
    "    location=URL(\"https://en.wikipedia.org/wiki/High-level_programming_language\")\n",
    ")"
   ]
  },
  {
   "cell_type": "code",
   "execution_count": 10,
   "metadata": {},
   "outputs": [],
   "source": [
    "system.train(\n",
    "    location=URL(\"https://en.wikipedia.org/wiki/Low-level_programming_language\")\n",
    ")"
   ]
  },
  {
   "cell_type": "markdown",
   "metadata": {},
   "source": [
    "Now, the most important question:"
   ]
  },
  {
   "cell_type": "code",
   "execution_count": 11,
   "metadata": {},
   "outputs": [
    {
     "data": {
      "text/plain": [
       "\"Based on the provided context, it's difficult to definitively state that one programming language is categorically better than the other. Both Python and C++ are powerful languages with different design philosophies and use cases.\\n\\nHowever, based on various factors, such as:\\n\\n* **Ease of use**: Python is generally considered easier to learn and use, especially for beginners and rapid prototyping.\\n* **Cross-platform compatibility**: Python can run on multiple operating systems, including Windows, macOS, and Linux.\\n* **Libraries and frameworks**: Python has a vast collection of libraries and frameworks that simplify tasks such as data analysis, web development, and more.\\n* **Speed**: C++ is generally considered faster than Python, especially for computationally intensive tasks.\\n\\nBased on these factors, it's difficult to say which programming language is categorically better. However, if I had to make an educated guess, I would say that Python is a better choice for most applications, particularly those that require rapid prototyping, data analysis, or web development.\""
      ]
     },
     "execution_count": 11,
     "metadata": {},
     "output_type": "execute_result"
    }
   ],
   "source": [
    "system.answer(\"Which programming language is better: Python or C++? Why\")"
   ]
  }
 ],
 "metadata": {
  "kernelspec": {
   "display_name": ".venv",
   "language": "python",
   "name": "python3"
  },
  "language_info": {
   "codemirror_mode": {
    "name": "ipython",
    "version": 3
   },
   "file_extension": ".py",
   "mimetype": "text/x-python",
   "name": "python",
   "nbconvert_exporter": "python",
   "pygments_lexer": "ipython3",
   "version": "3.12.3"
  }
 },
 "nbformat": 4,
 "nbformat_minor": 2
}
