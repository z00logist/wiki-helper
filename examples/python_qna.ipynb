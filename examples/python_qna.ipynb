{
 "cells": [
  {
   "cell_type": "markdown",
   "metadata": {},
   "source": [
    "# Python Question Answering Bot"
   ]
  },
  {
   "cell_type": "markdown",
   "metadata": {},
   "source": [
    "## Initialization"
   ]
  },
  {
   "cell_type": "code",
   "execution_count": 1,
   "metadata": {},
   "outputs": [],
   "source": [
    "import pathlib as pth\n",
    "import sys\n",
    "\n",
    "base_location = pth.Path.cwd().parent\n",
    "\n",
    "sys.path.append((base_location / \"src\").as_posix())"
   ]
  },
  {
   "cell_type": "code",
   "execution_count": 2,
   "metadata": {},
   "outputs": [],
   "source": [
    "from llama_index.embeddings.huggingface import HuggingFaceEmbedding\n",
    "from yarl import URL\n",
    "\n",
    "from wiki_helper.qna.impl.generative_model import StreamingLanguageModel\n",
    "from wiki_helper.qna.impl.knowledge_base import ExternalKnowledgeBase\n",
    "from wiki_helper.qna.impl.system import StreamingRagSystemImpl\n",
    "from wiki_helper.storing.impl.storage import VectorStorage, VectorStorageConnection"
   ]
  },
  {
   "cell_type": "markdown",
   "metadata": {},
   "source": [
    "#### Model Locations"
   ]
  },
  {
   "cell_type": "code",
   "execution_count": 3,
   "metadata": {},
   "outputs": [],
   "source": [
    "generative_model_location = (\n",
    "    base_location / \"models\" / \"generative_model\" / \"Llama-3.2-3B-Instruct-Q6_K.gguf\"\n",
    ")\n",
    "embedding_model_location = base_location / \"models\" / \"embedder\""
   ]
  },
  {
   "cell_type": "markdown",
   "metadata": {},
   "source": [
    "#### Initialize Embedding Function"
   ]
  },
  {
   "cell_type": "code",
   "execution_count": 4,
   "metadata": {},
   "outputs": [],
   "source": [
    "prompt_for_retrieval = \"Represent this sentence for searching relevant passages:\"\n",
    "\n",
    "contextual_oven = HuggingFaceEmbedding(\n",
    "    model_name=embedding_model_location.as_posix(),\n",
    "    query_instruction=prompt_for_retrieval,\n",
    ")"
   ]
  },
  {
   "cell_type": "markdown",
   "metadata": {},
   "source": [
    "**NOTE**: you need to up chroma-db before"
   ]
  },
  {
   "cell_type": "code",
   "execution_count": 5,
   "metadata": {},
   "outputs": [],
   "source": [
    "settings = VectorStorageConnection(host=\"localhost\", port=8000)"
   ]
  },
  {
   "cell_type": "markdown",
   "metadata": {},
   "source": [
    "#### Build RAG System"
   ]
  },
  {
   "cell_type": "code",
   "execution_count": 6,
   "metadata": {},
   "outputs": [],
   "source": [
    "system = StreamingRagSystemImpl(\n",
    "    StreamingLanguageModel(model_location=generative_model_location),\n",
    "    ExternalKnowledgeBase(\"en\"),\n",
    "    VectorStorage(embedding_builder=contextual_oven, connection_settings=settings),\n",
    ")"
   ]
  },
  {
   "cell_type": "markdown",
   "metadata": {},
   "source": [
    "#### Now We can Train the Model"
   ]
  },
  {
   "cell_type": "markdown",
   "metadata": {},
   "source": [
    "Let's say we want our system to be able to answer questions about Python"
   ]
  },
  {
   "cell_type": "code",
   "execution_count": 7,
   "metadata": {},
   "outputs": [],
   "source": [
    "system.train(\n",
    "    location=URL(\"https://en.wikipedia.org/wiki/Python_(programming_language)\")\n",
    ")"
   ]
  },
  {
   "cell_type": "markdown",
   "metadata": {},
   "source": [
    "Okay, we got the system. We can ask it questions!"
   ]
  },
  {
   "cell_type": "code",
   "execution_count": 8,
   "metadata": {},
   "outputs": [
    {
     "name": "stdout",
     "output_type": "stream",
     "text": [
      "Python is a high-level, general-purpose programming language that emphasizes code readability with the use of significant indentation."
     ]
    }
   ],
   "source": [
    "for token in system.answer(\"What is Python?\"):\n",
    "    print(token, end=\"\")"
   ]
  },
  {
   "cell_type": "markdown",
   "metadata": {},
   "source": [
    "But I want to ask it more abstract questions about programming. Let's widen the knowledge base"
   ]
  },
  {
   "cell_type": "code",
   "execution_count": 9,
   "metadata": {},
   "outputs": [],
   "source": [
    "system.train(\n",
    "    location=URL(\"https://en.wikipedia.org/wiki/High-level_programming_language\")\n",
    ")"
   ]
  },
  {
   "cell_type": "code",
   "execution_count": 10,
   "metadata": {},
   "outputs": [],
   "source": [
    "system.train(\n",
    "    location=URL(\"https://en.wikipedia.org/wiki/Low-level_programming_language\")\n",
    ")"
   ]
  },
  {
   "cell_type": "markdown",
   "metadata": {},
   "source": [
    "Now, the most important question:"
   ]
  },
  {
   "cell_type": "code",
   "execution_count": 11,
   "metadata": {},
   "outputs": [
    {
     "name": "stdout",
     "output_type": "stream",
     "text": [
      "I don't know which programming language is better, Python or C++. The question's criteria for evaluating a language (e.g., \"batteries included\" language) suggest that Python might be preferred over C++ because of its high-level design and comprehensive standard library. However, the suitability of one language over another depends on various factors such as project requirements, personal preferences, and experience level."
     ]
    }
   ],
   "source": [
    "for token in system.answer(\"Which programming language is better: Python or C++? Why\"):\n",
    "    print(token, end=\"\")"
   ]
  }
 ],
 "metadata": {
  "kernelspec": {
   "display_name": ".venv",
   "language": "python",
   "name": "python3"
  },
  "language_info": {
   "codemirror_mode": {
    "name": "ipython",
    "version": 3
   },
   "file_extension": ".py",
   "mimetype": "text/x-python",
   "name": "python",
   "nbconvert_exporter": "python",
   "pygments_lexer": "ipython3",
   "version": "3.12.3"
  }
 },
 "nbformat": 4,
 "nbformat_minor": 2
}
